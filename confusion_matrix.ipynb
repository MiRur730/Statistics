{
  "nbformat": 4,
  "nbformat_minor": 0,
  "metadata": {
    "colab": {
      "provenance": [],
      "collapsed_sections": [],
      "authorship_tag": "ABX9TyMetRn2TFfVL2S8hp+H/7DA",
      "include_colab_link": true
    },
    "kernelspec": {
      "name": "python3",
      "display_name": "Python 3"
    },
    "language_info": {
      "name": "python"
    }
  },
  "cells": [
    {
      "cell_type": "markdown",
      "metadata": {
        "id": "view-in-github",
        "colab_type": "text"
      },
      "source": [
        "<a href=\"https://colab.research.google.com/github/MiRur730/Statistics/blob/main/confusion_matrix.ipynb\" target=\"_parent\"><img src=\"https://colab.research.google.com/assets/colab-badge.svg\" alt=\"Open In Colab\"/></a>"
      ]
    },
    {
      "cell_type": "code",
      "execution_count": null,
      "metadata": {
        "id": "1Go16ufVyvq5"
      },
      "outputs": [],
      "source": [
        "actual=   [1,2,4,3,6,4,3,7,2,6,4,5,6,2,1]\n",
        "predicted=[2,1,4,3,6,1,3,4,5,6,4,4,6,2,1]"
      ]
    },
    {
      "cell_type": "code",
      "source": [
        "import numpy as np\n",
        "import matplotlib.pyplot as plt\n"
      ],
      "metadata": {
        "id": "ons2mut-zrHe"
      },
      "execution_count": null,
      "outputs": []
    },
    {
      "cell_type": "code",
      "source": [
        "def comp_confmat(actual, predicted):\n",
        "\n",
        "    # extract the different classes\n",
        "    classes = np.unique(actual)\n",
        "\n",
        "    # initialize the confusion matrix\n",
        "    confmat = np.zeros((len(classes), len(classes)))\n",
        "\n",
        "    # loop across the different combinations of actual / predicted classes\n",
        "    for i in range(len(classes)):\n",
        "        for j in range(len(classes)):\n",
        "\n",
        "           # count the number of instances in each combination of actual / predicted classes\n",
        "           confmat[i, j] = np.sum((actual == classes[i]) & (predicted == classes[j]))\n",
        "\n",
        "    return confmat\n"
      ],
      "metadata": {
        "id": "ISgHwEkgzg4M"
      },
      "execution_count": null,
      "outputs": []
    },
    {
      "cell_type": "code",
      "source": [
        "confusion_matrix =comp_confmat(actual,predicted)\n",
        "print(confusion_matrix)"
      ],
      "metadata": {
        "colab": {
          "base_uri": "https://localhost:8080/"
        },
        "id": "3hPOODmcz36n",
        "outputId": "d13372f6-cde3-499c-c010-4653bf2a3b75"
      },
      "execution_count": null,
      "outputs": [
        {
          "output_type": "stream",
          "name": "stdout",
          "text": [
            "[[1. 1. 0. 0. 0. 0. 0.]\n",
            " [1. 1. 0. 0. 1. 0. 0.]\n",
            " [0. 0. 2. 0. 0. 0. 0.]\n",
            " [1. 0. 0. 2. 0. 0. 0.]\n",
            " [0. 0. 0. 1. 0. 0. 0.]\n",
            " [0. 0. 0. 0. 0. 3. 0.]\n",
            " [0. 0. 0. 1. 0. 0. 0.]]\n"
          ]
        }
      ]
    },
    {
      "cell_type": "code",
      "source": [
        "total_sum=0\n",
        "for i in range(0,len(confusion_matrix)):\n",
        "  for j in range(0,len(confusion_matrix)):\n",
        "    total_sum+=confusion_matrix[i][j]\n",
        "total_sum    "
      ],
      "metadata": {
        "colab": {
          "base_uri": "https://localhost:8080/"
        },
        "id": "eVXnmAhb0IM1",
        "outputId": "5b59b36b-e885-4082-9290-64854d5472ae"
      },
      "execution_count": null,
      "outputs": [
        {
          "output_type": "execute_result",
          "data": {
            "text/plain": [
              "15.0"
            ]
          },
          "metadata": {},
          "execution_count": 16
        }
      ]
    },
    {
      "cell_type": "code",
      "source": [],
      "metadata": {
        "id": "A_wfmnNO4K6u"
      },
      "execution_count": null,
      "outputs": []
    },
    {
      "cell_type": "code",
      "source": [
        "\n",
        "def multi(mat,n):\n",
        "  col_sum=[sum([row[i] for row in mat])for i in range(0,len(mat[0]))]\n",
        "  row_sum=[sum(mat[i]) for i  in range(len(mat))]\n",
        "  tp=mat[n][n]\n",
        "  fp =row_sum[n]-tp\n",
        "  fn=col_sum[n]-tp\n",
        "  tn=total_sum-fp-fn-tp\n",
        "  list_store=[]\n",
        "  accuracy=(tp + tn)/(tp + tn + fp + fn)\n",
        "  list_store.append(accuracy)\n",
        "  precision= tp / (tp + fp)\n",
        "  list_store.append(precision)\n",
        "  recall = tp / (tp + fn)\n",
        "  list_store.append(recall)\n",
        "  f1_score = (2 * precision * recall) / ( precision + recall )\n",
        "  list_store.append(f1_score)\n",
        "  return list_store"
      ],
      "metadata": {
        "id": "4ZuYOdvh09e2"
      },
      "execution_count": null,
      "outputs": []
    },
    {
      "cell_type": "code",
      "source": [
        "print(f\" Accuracy for class 1 is {multi(confusion_matrix,1)[0]}\")\n",
        "print(f\" Precision for class 1 is {multi(confusion_matrix,1)[1]}\")\n",
        "print(f\" Recall for class 1 is {multi(confusion_matrix,1)[2]}\")\n",
        "print(f\" f1_score for class 1 is {multi(confusion_matrix,1)[3]}\")"
      ],
      "metadata": {
        "colab": {
          "base_uri": "https://localhost:8080/"
        },
        "id": "U7LDnbtw4MH-",
        "outputId": "103801ff-58da-45c8-ecd0-d3923f699357"
      },
      "execution_count": null,
      "outputs": [
        {
          "output_type": "stream",
          "name": "stdout",
          "text": [
            " Accuracy for class 1 is 0.8\n",
            " Precision for class 1 is 0.3333333333333333\n",
            " Recall for class 1 is 0.5\n",
            " f1_score for class 1 is 0.4\n"
          ]
        }
      ]
    },
    {
      "cell_type": "code",
      "source": [
        "\n",
        "for i in range(len(confusion_matrix)):\n",
        "  print(f\"Accuracy for class {i+1} is {multi(confusion_matrix,i)[0]}\")\n",
        "  print(f\"Precision for class {i+1} is {multi(confusion_matrix,i)[1]}\")\n",
        "  print(f\"Recall for class {i+1}is {multi(confusion_matrix,i)[2]}\")\n",
        "  print(f\"F1_score for class {i+1} is {multi(confusion_matrix,i)[3]}\")\n",
        "  print(\"\")"
      ],
      "metadata": {
        "colab": {
          "base_uri": "https://localhost:8080/"
        },
        "id": "RXpx0zPv5SU9",
        "outputId": "3f982d87-53ad-4c17-d957-d22328a89790"
      },
      "execution_count": null,
      "outputs": [
        {
          "output_type": "stream",
          "name": "stdout",
          "text": [
            "Accuracy for class 1 is 0.8\n",
            "Precision for class 1 is 0.5\n",
            "Recall for class 1is 0.3333333333333333\n",
            "F1_score for class 1 is 0.4\n",
            "\n",
            "Accuracy for class 2 is 0.8\n",
            "Precision for class 2 is 0.3333333333333333\n",
            "Recall for class 2is 0.5\n",
            "F1_score for class 2 is 0.4\n",
            "\n",
            "Accuracy for class 3 is 1.0\n",
            "Precision for class 3 is 1.0\n",
            "Recall for class 3is 1.0\n",
            "F1_score for class 3 is 1.0\n",
            "\n",
            "Accuracy for class 4 is 0.8\n",
            "Precision for class 4 is 0.6666666666666666\n",
            "Recall for class 4is 0.5\n",
            "F1_score for class 4 is 0.5714285714285715\n",
            "\n",
            "Accuracy for class 5 is 0.8666666666666667\n",
            "Precision for class 5 is 0.0\n",
            "Recall for class 5is 0.0\n",
            "F1_score for class 5 is nan\n",
            "\n",
            "Accuracy for class 6 is 1.0\n",
            "Precision for class 6 is 1.0\n",
            "Recall for class 6is 1.0\n",
            "F1_score for class 6 is 1.0\n",
            "\n",
            "Accuracy for class 7 is 0.9333333333333333\n",
            "Precision for class 7 is 0.0\n",
            "Recall for class 7is nan\n",
            "F1_score for class 7 is nan\n",
            "\n"
          ]
        },
        {
          "output_type": "stream",
          "name": "stderr",
          "text": [
            "/usr/local/lib/python3.7/dist-packages/ipykernel_launcher.py:15: RuntimeWarning: invalid value encountered in double_scalars\n",
            "  from ipykernel import kernelapp as app\n",
            "/usr/local/lib/python3.7/dist-packages/ipykernel_launcher.py:13: RuntimeWarning: invalid value encountered in double_scalars\n",
            "  del sys.path[0]\n"
          ]
        }
      ]
    }
  ]
}